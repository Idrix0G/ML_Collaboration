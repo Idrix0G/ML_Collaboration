{
 "cells": [
  {
   "cell_type": "code",
   "execution_count": null,
   "metadata": {},
   "outputs": [],
   "source": []
  }
 ],
 "metadata": {
  "kernelspec": {
   "display_name": "Python 3.10.4 ('.venv': venv)",
   "language": "python",
   "name": "python3"
  },
  "language_info": {
   "name": "python",
   "version": "3.10.4"
  },
  "orig_nbformat": 4,
  "vscode": {
   "interpreter": {
    "hash": "584c0dae3adc2003ecb0208117d54db6734ecb9f2f665339683342d0b49b8c0f"
   }
  }
 },
 "nbformat": 4,
 "nbformat_minor": 2
}
